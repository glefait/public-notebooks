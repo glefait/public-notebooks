{
 "cells": [
  {
   "cell_type": "code",
   "execution_count": null,
   "id": "70c75327",
   "metadata": {},
   "outputs": [],
   "source": [
    "from youtube_transcript_api import YouTubeTranscriptApi"
   ]
  },
  {
   "cell_type": "code",
   "execution_count": null,
   "id": "4ec2288e",
   "metadata": {},
   "outputs": [],
   "source": [
    "video_id = 'gmKQxKnZu9A'\n",
    "languages=['fr']\n",
    "initial_lag = 4246 - 646 # starts at 1:10:46 and first start is 646\n",
    "output_file = 'transcript-yt-congres-2022-10-17.md'"
   ]
  },
  {
   "cell_type": "code",
   "execution_count": null,
   "id": "b1b7a656",
   "metadata": {},
   "outputs": [],
   "source": [
    "yt_transcript = YouTubeTranscriptApi.get_transcript(video_id, languages=languages)"
   ]
  },
  {
   "cell_type": "code",
   "execution_count": null,
   "id": "b3b77a18",
   "metadata": {},
   "outputs": [],
   "source": [
    "md_transcript = []\n",
    "for transcript in yt_transcript:\n",
    "    md_transcript.append(f'[{transcript[\"text\"]}](https://www.youtube.com/watch?v={video_id}&t={initial_lag + int(transcript[\"start\"])}s)')\n",
    "\n",
    "with open(output_file, 'w') as md_out:\n",
    "    md_out.write('\\n'.join(md_transcript))"
   ]
  }
 ],
 "metadata": {
  "kernelspec": {
   "display_name": "Python 3 (ipykernel)",
   "language": "python",
   "name": "python3"
  },
  "language_info": {
   "codemirror_mode": {
    "name": "ipython",
    "version": 3
   },
   "file_extension": ".py",
   "mimetype": "text/x-python",
   "name": "python",
   "nbconvert_exporter": "python",
   "pygments_lexer": "ipython3",
   "version": "3.9.7"
  }
 },
 "nbformat": 4,
 "nbformat_minor": 5
}
